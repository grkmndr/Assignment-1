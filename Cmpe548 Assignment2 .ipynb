{
 "cells": [
  {
   "cell_type": "markdown",
   "metadata": {},
   "source": [
    "# 1. Importance Sampling\n"
   ]
  },
  {
   "cell_type": "code",
   "execution_count": 326,
   "metadata": {
    "collapsed": false
   },
   "outputs": [
    {
     "name": "stdout",
     "output_type": "stream",
     "text": [
      "Ground Truth : 0.666666666666667\n",
      "IS Estimator : 0.644450635849\n"
     ]
    }
   ],
   "source": [
    "import numpy as np\n",
    "import math\n",
    "import matplotlib.pyplot as plt\n",
    "import matplotlib.image as mpimg\n",
    "%matplotlib inline\n",
    "\n",
    "\n",
    "mean = np.array([0,0])\n",
    "cov = [[0.2, 0],\n",
    "       [0,0.2]]\n",
    "\n",
    "N = 1000\n",
    "p = 0.5\n",
    "\n",
    "def ground_truth(r): #area of a 0.5-ball with radius r\n",
    "    return ((r**2)/2-4/3*(r**(3/2))+r)*4\n",
    "\n",
    "def bivariate_normal_pdf(pair, mean, cov):\n",
    "    cov_det = np.linalg.det(cov)\n",
    "    normalizer = 1.0/((2*np.pi)*(np.sqrt(cov_det)))\n",
    "    matrix = math.pow(np.e, ((-1/2)*(np.matrix(pair-mean))*np.linalg.inv(cov)*np.transpose(np.matrix(pair-mean))))\n",
    "    #print(matrix)\n",
    "    return normalizer*matrix\n",
    "\n",
    "def weight(x,y,p):\n",
    "    if abs(x)**p + abs(y)**p <=1:\n",
    "        return 1/bivariate_normal_pdf([x,y], mean, cov)\n",
    "    else:\n",
    "        return 0\n",
    "\n",
    "\n",
    "xi, yi = np.random.multivariate_normal(mean, cov, N).T\n",
    "\n",
    "totalWeight = 0\n",
    "\n",
    "for i in range(N):\n",
    "    totalWeight += weight(xi[i],yi[i],p)\n",
    "    \n",
    "area = totalWeight/N\n",
    "ground_truth = ground_truth(1.0)\n",
    "#plt.plot(lp_est,'.b')\n",
    "\n",
    "print('Ground Truth :', ground_truth)\n",
    "print('IS Estimator :', area)\n",
    "\n"
   ]
  },
  {
   "cell_type": "markdown",
   "metadata": {},
   "source": [
    "# 2. Markov Chain\n",
    "\n",
    "## Part a"
   ]
  },
  {
   "cell_type": "code",
   "execution_count": 354,
   "metadata": {
    "collapsed": false
   },
   "outputs": [
    {
     "data": {
      "text/plain": [
       "(6, 6)"
      ]
     },
     "execution_count": 354,
     "metadata": {},
     "output_type": "execute_result"
    }
   ],
   "source": [
    "M = np.array([[0.25, 0.25, 0.25, 0.25, 0.25, 0.25],\n",
    "              [0, 0.25, 0, 0, 0.25, 0],\n",
    "              [0, 0, 0, 0.5, 0, 0],\n",
    "              [0.25, 0.25, 0.5, 0, 0.25, 0.25],\n",
    "              [0.25, 0.25, 0.25, 0.25, 0.25, 0.25],\n",
    "              [0.25, 0, 0, 0, 0, 0.25]])\n",
    "\n",
    "M.shape"
   ]
  },
  {
   "cell_type": "markdown",
   "metadata": {},
   "source": [
    "## Part b"
   ]
  },
  {
   "cell_type": "code",
   "execution_count": 355,
   "metadata": {
    "collapsed": false
   },
   "outputs": [
    {
     "name": "stdout",
     "output_type": "stream",
     "text": [
      "[ 0.25        0.08333333  0.11111111  0.22222222  0.25        0.08333333]\n"
     ]
    }
   ],
   "source": [
    "w, v = np.linalg.eig(M)\n",
    "i = np.argmax(np.isclose(w, 1.0))\n",
    "eig = v[:, i]\n",
    "v = np.real(eig / sum(eig))\n",
    "\n",
    "print(v)\n"
   ]
  },
  {
   "cell_type": "markdown",
   "metadata": {},
   "source": [
    "## Part c"
   ]
  },
  {
   "cell_type": "code",
   "execution_count": 356,
   "metadata": {
    "collapsed": false
   },
   "outputs": [
    {
     "data": {
      "text/plain": [
       "False"
      ]
     },
     "execution_count": 356,
     "metadata": {},
     "output_type": "execute_result"
    }
   ],
   "source": [
    "A = M*v\n",
    "np.allclose(A,A.T)"
   ]
  },
  {
   "cell_type": "markdown",
   "metadata": {},
   "source": [
    "## Part d"
   ]
  },
  {
   "cell_type": "code",
   "execution_count": 318,
   "metadata": {
    "collapsed": false
   },
   "outputs": [
    {
     "name": "stdout",
     "output_type": "stream",
     "text": [
      "24\n"
     ]
    }
   ],
   "source": [
    "eps = 1e-8\n",
    "curr = np.array([1, 0, 0, 0, 0, 0])\n",
    "t_mix = 0\n",
    "variation = np.sum(np.abs(v-curr))\n",
    "\n",
    "while variation > eps:\n",
    "    curr = np.dot(M, curr)\n",
    "    variation = 0.5*np.sum(np.abs(v-curr))\n",
    "    t_mix += 1\n",
    "\n",
    "print(t_mix)\n",
    "\n",
    "    "
   ]
  },
  {
   "cell_type": "markdown",
   "metadata": {},
   "source": [
    "## Part e"
   ]
  },
  {
   "cell_type": "code",
   "execution_count": 319,
   "metadata": {
    "collapsed": false
   },
   "outputs": [
    {
     "data": {
      "image/png": "[encoded data removed]",
      "text/plain": [
       "<matplotlib.figure.Figure at 0x1110be0b8>"
      ]
     },
     "metadata": {},
     "output_type": "display_data"
    }
   ],
   "source": [
    "time = [1,3,8,15,t_mix]\n",
    "f, subplot = plt.subplots(1, len(time), figsize=(15,10))\n",
    "for i in range(len(time)):\n",
    "    subplot[i].imshow(np.linalg.matrix_power(M,time[i]), aspect='equal', interpolation='none', cmap='YlGn')\n",
    "    subplot[i].set_title(\"$t= %d$\" % time[i])\n",
    "    subplot[i].grid(False)"
   ]
  },
  {
   "cell_type": "code",
   "execution_count": 349,
   "metadata": {
    "collapsed": false
   },
   "outputs": [
    {
     "data": {
      "text/plain": [
       "<matplotlib.colorbar.Colorbar at 0x1136610f0>"
      ]
     },
     "execution_count": 349,
     "metadata": {},
     "output_type": "execute_result"
    },
    {
     "data": {
      "image/png": "[encoded data removed]",
      "text/plain": [
       "<matplotlib.figure.Figure at 0x1139138d0>"
      ]
     },
     "metadata": {},
     "output_type": "display_data"
    }
   ],
   "source": [
    "\n",
    "temp = A\n",
    "M_new = np.zeros((len(M),t_mix))\n",
    "\n",
    "states = np.zeros([6, t_mix])\n",
    "states[:, 0] = np.array([1,0,0,0,0,0])\n",
    "\n",
    "\n",
    "for i in range (1,t_mix):\n",
    "    states[:,i] = np.dot(M,states[:,i-1])\n",
    "\n",
    "plt.figure(figsize=(15,10))\n",
    "im = plt.imshow(states, aspect='equal', interpolation='none', cmap='YlGn')\n",
    "plt.colorbar(im,fraction=0.016, pad=0.04)"
   ]
  }
 ],
 "metadata": {
  "kernelspec": {
   "display_name": "Python 3",
   "language": "python",
   "name": "python3"
  },
  "language_info": {
   "codemirror_mode": {
    "name": "ipython",
    "version": 3
   },
   "file_extension": ".py",
   "mimetype": "text/x-python",
   "name": "python",
   "nbconvert_exporter": "python",
   "pygments_lexer": "ipython3",
   "version": "3.5.1"
  }
 },
 "nbformat": 4,
 "nbformat_minor": 0
}
